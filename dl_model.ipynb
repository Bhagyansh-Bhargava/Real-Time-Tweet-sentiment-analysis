version https://git-lfs.github.com/spec/v1
oid sha256:00866818a7d830c1fe41babf1441226bd69ab14661ae4cdbf73452ced2d93ef5
size 416904
